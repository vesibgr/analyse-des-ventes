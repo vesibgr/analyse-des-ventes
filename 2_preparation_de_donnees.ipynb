{
 "cells": [
  {
   "cell_type": "code",
   "execution_count": 1,
   "metadata": {},
   "outputs": [],
   "source": [
    "import pandas as pd\n",
    "import numpy as np\n",
    "import matplotlib.pyplot as plt\n",
    "from datetime import datetime\n",
    "import re\n",
    "import functions as f\n",
    "import calendar\n",
    "import math"
   ]
  },
  {
   "cell_type": "markdown",
   "metadata": {},
   "source": [
    "# Mission 1 : Préparation des données"
   ]
  },
  {
   "cell_type": "markdown",
   "metadata": {},
   "source": [
    "# Découverte des données"
   ]
  },
  {
   "cell_type": "code",
   "execution_count": 2,
   "metadata": {},
   "outputs": [],
   "source": [
    "c = pd.read_csv(\"1_dataset/customers.csv\")\n",
    "p = pd.read_csv(\"1_dataset/products.csv\")\n",
    "t = pd.read_csv(\"1_dataset/transactions.csv\")"
   ]
  },
  {
   "cell_type": "code",
   "execution_count": 3,
   "metadata": {},
   "outputs": [
    {
     "data": {
      "text/html": [
       "<div>\n",
       "<style scoped>\n",
       "    .dataframe tbody tr th:only-of-type {\n",
       "        vertical-align: middle;\n",
       "    }\n",
       "\n",
       "    .dataframe tbody tr th {\n",
       "        vertical-align: top;\n",
       "    }\n",
       "\n",
       "    .dataframe thead th {\n",
       "        text-align: right;\n",
       "    }\n",
       "</style>\n",
       "<table border=\"1\" class=\"dataframe\">\n",
       "  <thead>\n",
       "    <tr style=\"text-align: right;\">\n",
       "      <th></th>\n",
       "      <th>client_id</th>\n",
       "      <th>sex</th>\n",
       "      <th>birth</th>\n",
       "    </tr>\n",
       "  </thead>\n",
       "  <tbody>\n",
       "    <tr>\n",
       "      <th>0</th>\n",
       "      <td>c_4410</td>\n",
       "      <td>f</td>\n",
       "      <td>1967</td>\n",
       "    </tr>\n",
       "    <tr>\n",
       "      <th>1</th>\n",
       "      <td>c_7839</td>\n",
       "      <td>f</td>\n",
       "      <td>1975</td>\n",
       "    </tr>\n",
       "  </tbody>\n",
       "</table>\n",
       "</div>"
      ],
      "text/plain": [
       "  client_id sex  birth\n",
       "0    c_4410   f   1967\n",
       "1    c_7839   f   1975"
      ]
     },
     "execution_count": 3,
     "metadata": {},
     "output_type": "execute_result"
    }
   ],
   "source": [
    "c.head(2)"
   ]
  },
  {
   "cell_type": "markdown",
   "metadata": {},
   "source": [
    "### `customers`"
   ]
  },
  {
   "cell_type": "markdown",
   "metadata": {},
   "source": [
    "Contient **~8600** clients"
   ]
  },
  {
   "cell_type": "markdown",
   "metadata": {},
   "source": [
    "colonnes :\n",
    "- `client_id` est une clef primaire\n",
    "- `sex` : **f** ou **m** (52% et 48%)\n",
    "- `birth`: 1929 -> 2004\n",
    "\n",
    "Autres :\n",
    "- pas de valeurs nulles"
   ]
  },
  {
   "cell_type": "markdown",
   "metadata": {},
   "source": [
    "### `products`"
   ]
  },
  {
   "cell_type": "code",
   "execution_count": 4,
   "metadata": {},
   "outputs": [
    {
     "data": {
      "text/html": [
       "<div>\n",
       "<style scoped>\n",
       "    .dataframe tbody tr th:only-of-type {\n",
       "        vertical-align: middle;\n",
       "    }\n",
       "\n",
       "    .dataframe tbody tr th {\n",
       "        vertical-align: top;\n",
       "    }\n",
       "\n",
       "    .dataframe thead th {\n",
       "        text-align: right;\n",
       "    }\n",
       "</style>\n",
       "<table border=\"1\" class=\"dataframe\">\n",
       "  <thead>\n",
       "    <tr style=\"text-align: right;\">\n",
       "      <th></th>\n",
       "      <th>id_prod</th>\n",
       "      <th>price</th>\n",
       "      <th>categ</th>\n",
       "    </tr>\n",
       "  </thead>\n",
       "  <tbody>\n",
       "    <tr>\n",
       "      <th>0</th>\n",
       "      <td>0_1421</td>\n",
       "      <td>19.99</td>\n",
       "      <td>0</td>\n",
       "    </tr>\n",
       "    <tr>\n",
       "      <th>1</th>\n",
       "      <td>0_1368</td>\n",
       "      <td>5.13</td>\n",
       "      <td>0</td>\n",
       "    </tr>\n",
       "  </tbody>\n",
       "</table>\n",
       "</div>"
      ],
      "text/plain": [
       "  id_prod  price  categ\n",
       "0  0_1421  19.99      0\n",
       "1  0_1368   5.13      0"
      ]
     },
     "execution_count": 4,
     "metadata": {},
     "output_type": "execute_result"
    }
   ],
   "source": [
    "p.head(2)"
   ]
  },
  {
   "cell_type": "markdown",
   "metadata": {},
   "source": [
    "Contient **~3200** produits"
   ]
  },
  {
   "cell_type": "markdown",
   "metadata": {},
   "source": [
    "colonnes :\n",
    "- `id_prod`: clef primaire\n",
    "- `categ`: 0, 1 ou 2 (70%, 23%, 7%)\n",
    "\n",
    "Autres :\n",
    "- pas de valeurs nulles"
   ]
  },
  {
   "cell_type": "markdown",
   "metadata": {},
   "source": [
    "### `Transactions`"
   ]
  },
  {
   "cell_type": "markdown",
   "metadata": {},
   "source": [
    "il y a **~340 000** transactions"
   ]
  },
  {
   "cell_type": "code",
   "execution_count": 5,
   "metadata": {
    "scrolled": true
   },
   "outputs": [
    {
     "data": {
      "text/html": [
       "<div>\n",
       "<style scoped>\n",
       "    .dataframe tbody tr th:only-of-type {\n",
       "        vertical-align: middle;\n",
       "    }\n",
       "\n",
       "    .dataframe tbody tr th {\n",
       "        vertical-align: top;\n",
       "    }\n",
       "\n",
       "    .dataframe thead th {\n",
       "        text-align: right;\n",
       "    }\n",
       "</style>\n",
       "<table border=\"1\" class=\"dataframe\">\n",
       "  <thead>\n",
       "    <tr style=\"text-align: right;\">\n",
       "      <th></th>\n",
       "      <th>id_prod</th>\n",
       "      <th>date</th>\n",
       "      <th>session_id</th>\n",
       "      <th>client_id</th>\n",
       "    </tr>\n",
       "  </thead>\n",
       "  <tbody>\n",
       "    <tr>\n",
       "      <th>0</th>\n",
       "      <td>0_1483</td>\n",
       "      <td>2021-04-10 18:37:28.723910</td>\n",
       "      <td>s_18746</td>\n",
       "      <td>c_4450</td>\n",
       "    </tr>\n",
       "    <tr>\n",
       "      <th>1</th>\n",
       "      <td>2_226</td>\n",
       "      <td>2022-02-03 01:55:53.276402</td>\n",
       "      <td>s_159142</td>\n",
       "      <td>c_277</td>\n",
       "    </tr>\n",
       "  </tbody>\n",
       "</table>\n",
       "</div>"
      ],
      "text/plain": [
       "  id_prod                        date session_id client_id\n",
       "0  0_1483  2021-04-10 18:37:28.723910    s_18746    c_4450\n",
       "1   2_226  2022-02-03 01:55:53.276402   s_159142     c_277"
      ]
     },
     "execution_count": 5,
     "metadata": {},
     "output_type": "execute_result"
    }
   ],
   "source": [
    "t.head(2)"
   ]
  },
  {
   "cell_type": "markdown",
   "metadata": {},
   "source": [
    "Colonnes :\n",
    "- `id_prod` : id du produit acheté\n",
    "- `client_id` : id de l'acheteur\n",
    "- `session_id` : la session pendant laquelle laquelle le client a acheté\n",
    "- `date` : la date d'achat\n",
    "\n",
    "Autre :\n",
    " - il n'y a pas de valeurs nulles\n",
    " - Il y a un utilisateur par sessions (sauf pour s_0 qui a ct_0 et ct_1). Mais un utilisateur peut avoir plusieurs sessions\n",
    " - ct_0 et ct_1 posent problème.\n",
    "    - Ils ont acheté T_0 126 fois à partir de la meme session (s_0) a ~2021-03-01 02:30:02.2374."
   ]
  },
  {
   "cell_type": "markdown",
   "metadata": {},
   "source": [
    "# Jointure"
   ]
  },
  {
   "cell_type": "markdown",
   "metadata": {},
   "source": [
    "On fait une  jointure externe pour sauvegarder l'ensembles des produits / clients qui n'ont pas de transactions"
   ]
  },
  {
   "cell_type": "code",
   "execution_count": 6,
   "metadata": {},
   "outputs": [],
   "source": [
    "# jointure des transac vers les produits\n",
    "df = pd.merge(left=p,right=t,how='outer',on='id_prod')\n",
    "# jointures des transac/prod vers c\n",
    "df = pd.merge(left=c,right=df, how='outer',on='client_id')"
   ]
  },
  {
   "cell_type": "code",
   "execution_count": 7,
   "metadata": {},
   "outputs": [],
   "source": [
    "# renommage des colonnes\n",
    "df.columns = ['c_id', 'c_sex', 'c_birth', 'p_id', 'p_price', 'p_cat', 't_date', 't_sess_id']"
   ]
  },
  {
   "cell_type": "code",
   "execution_count": 8,
   "metadata": {},
   "outputs": [
    {
     "data": {
      "text/html": [
       "<div>\n",
       "<style scoped>\n",
       "    .dataframe tbody tr th:only-of-type {\n",
       "        vertical-align: middle;\n",
       "    }\n",
       "\n",
       "    .dataframe tbody tr th {\n",
       "        vertical-align: top;\n",
       "    }\n",
       "\n",
       "    .dataframe thead th {\n",
       "        text-align: right;\n",
       "    }\n",
       "</style>\n",
       "<table border=\"1\" class=\"dataframe\">\n",
       "  <thead>\n",
       "    <tr style=\"text-align: right;\">\n",
       "      <th></th>\n",
       "      <th>c_id</th>\n",
       "      <th>c_sex</th>\n",
       "      <th>c_birth</th>\n",
       "      <th>p_id</th>\n",
       "      <th>p_price</th>\n",
       "      <th>p_cat</th>\n",
       "      <th>t_date</th>\n",
       "      <th>t_sess_id</th>\n",
       "    </tr>\n",
       "  </thead>\n",
       "  <tbody>\n",
       "    <tr>\n",
       "      <th>108295</th>\n",
       "      <td>ct_0</td>\n",
       "      <td>f</td>\n",
       "      <td>2001.0</td>\n",
       "      <td>T_0</td>\n",
       "      <td>-1.0</td>\n",
       "      <td>0.0</td>\n",
       "      <td>test_2021-03-01 02:30:02.237430</td>\n",
       "      <td>s_0</td>\n",
       "    </tr>\n",
       "    <tr>\n",
       "      <th>108206</th>\n",
       "      <td>ct_0</td>\n",
       "      <td>f</td>\n",
       "      <td>2001.0</td>\n",
       "      <td>T_0</td>\n",
       "      <td>-1.0</td>\n",
       "      <td>0.0</td>\n",
       "      <td>test_2021-03-01 02:30:02.237446</td>\n",
       "      <td>s_0</td>\n",
       "    </tr>\n",
       "    <tr>\n",
       "      <th>108205</th>\n",
       "      <td>ct_0</td>\n",
       "      <td>f</td>\n",
       "      <td>2001.0</td>\n",
       "      <td>T_0</td>\n",
       "      <td>-1.0</td>\n",
       "      <td>0.0</td>\n",
       "      <td>test_2021-03-01 02:30:02.237445</td>\n",
       "      <td>s_0</td>\n",
       "    </tr>\n",
       "  </tbody>\n",
       "</table>\n",
       "</div>"
      ],
      "text/plain": [
       "        c_id c_sex  c_birth p_id  p_price  p_cat  \\\n",
       "108295  ct_0     f   2001.0  T_0     -1.0    0.0   \n",
       "108206  ct_0     f   2001.0  T_0     -1.0    0.0   \n",
       "108205  ct_0     f   2001.0  T_0     -1.0    0.0   \n",
       "\n",
       "                                 t_date t_sess_id  \n",
       "108295  test_2021-03-01 02:30:02.237430       s_0  \n",
       "108206  test_2021-03-01 02:30:02.237446       s_0  \n",
       "108205  test_2021-03-01 02:30:02.237445       s_0  "
      ]
     },
     "execution_count": 8,
     "metadata": {},
     "output_type": "execute_result"
    }
   ],
   "source": [
    "df[df.c_id.isin(['ct_0', 'ct_1'])].sample(3)"
   ]
  },
  {
   "cell_type": "markdown",
   "metadata": {},
   "source": [
    "#### Y a-t-il des valeurs `NaN` ?"
   ]
  },
  {
   "cell_type": "code",
   "execution_count": 9,
   "metadata": {},
   "outputs": [],
   "source": [
    "df_na = df.loc[df.isnull().any(axis=1)]"
   ]
  },
  {
   "cell_type": "code",
   "execution_count": 10,
   "metadata": {
    "scrolled": false
   },
   "outputs": [],
   "source": [
    "p_invendus_id = df_na.loc[df.c_id.isnull(), 'p_id'].unique()"
   ]
  },
  {
   "cell_type": "code",
   "execution_count": 11,
   "metadata": {},
   "outputs": [],
   "source": [
    "c_ss_achat_id = df_na.loc[df.p_id.isnull(), 'c_id'].unique()"
   ]
  },
  {
   "cell_type": "markdown",
   "metadata": {},
   "source": [
    "- 22 produits sur 3289 n'ont jamais été vendus\n",
    "- 21 clients sur 8624 n'ont jamais acheté"
   ]
  },
  {
   "cell_type": "markdown",
   "metadata": {},
   "source": [
    "# Nettoyage des données"
   ]
  },
  {
   "cell_type": "markdown",
   "metadata": {},
   "source": [
    "#### On ajoute une colonne 'data_info'"
   ]
  },
  {
   "cell_type": "markdown",
   "metadata": {},
   "source": [
    "elle donne des infos supplémentaire sur les données de la ligne (`NaN` par défaut) "
   ]
  },
  {
   "cell_type": "code",
   "execution_count": 12,
   "metadata": {},
   "outputs": [],
   "source": [
    "df['data_info'] = np.nan"
   ]
  },
  {
   "cell_type": "markdown",
   "metadata": {},
   "source": [
    "#### Suppression des valeurs de tests"
   ]
  },
  {
   "cell_type": "markdown",
   "metadata": {},
   "source": [
    "Les valeurs de tests :\n",
    " - les clients sont ct_0 ou ct_1\n",
    " - la session de la transaction est s_0\n",
    " - les dates de la trans comences par 'test'\n",
    " - les produits acheté T_0, coutent -1 euro\n",
    " \n",
    " --> on les supprime"
   ]
  },
  {
   "cell_type": "code",
   "execution_count": 13,
   "metadata": {},
   "outputs": [],
   "source": [
    "df = df.loc[~(df.c_id.notnull() & (df.c_id.str.contains('ct')))]"
   ]
  },
  {
   "cell_type": "markdown",
   "metadata": {},
   "source": [
    "#### Le produits `0_2245` est dans des transactions mais n'est pas dans produits"
   ]
  },
  {
   "cell_type": "markdown",
   "metadata": {},
   "source": [
    "le prermier caractère de l'id correspond t'il a la catégorie ?"
   ]
  },
  {
   "cell_type": "code",
   "execution_count": 14,
   "metadata": {},
   "outputs": [],
   "source": [
    "test = df[['p_id', 'p_cat']].copy()\n",
    "test['equal'] = test['p_id'].str[0] == test['p_cat'].astype(str).str[0]"
   ]
  },
  {
   "cell_type": "code",
   "execution_count": 15,
   "metadata": {
    "scrolled": true
   },
   "outputs": [
    {
     "data": {
      "text/plain": [
       "True"
      ]
     },
     "execution_count": 15,
     "metadata": {},
     "output_type": "execute_result"
    }
   ],
   "source": [
    "test[test['p_id'].notnull()& test['p_cat'].notnull()].equal.all()"
   ]
  },
  {
   "cell_type": "markdown",
   "metadata": {},
   "source": [
    "--> oui on peut donc faire une imputation de la catégorie a partir de l'id"
   ]
  },
  {
   "cell_type": "code",
   "execution_count": 16,
   "metadata": {},
   "outputs": [],
   "source": [
    "# imputation de la catégorie\n",
    "cat = 0\n",
    "df.loc[df.p_id=='0_2245', 'p_cat'] = cat"
   ]
  },
  {
   "cell_type": "markdown",
   "metadata": {},
   "source": [
    "Et l'on peut imputer le prix par la moyenne de la catégorie"
   ]
  },
  {
   "cell_type": "code",
   "execution_count": 17,
   "metadata": {},
   "outputs": [],
   "source": [
    "cat1_price_mean = df.loc[df.p_cat == cat, 'p_price'].mean()\n",
    "df.loc[df.p_id=='0_2245', 'p_price'] = cat1_price_mean"
   ]
  },
  {
   "cell_type": "code",
   "execution_count": 18,
   "metadata": {},
   "outputs": [],
   "source": [
    "df.loc[df.p_id=='0_2245', 'data_info'] = 'prod_imputation'"
   ]
  },
  {
   "cell_type": "code",
   "execution_count": 19,
   "metadata": {},
   "outputs": [
    {
     "data": {
      "text/html": [
       "<div>\n",
       "<style scoped>\n",
       "    .dataframe tbody tr th:only-of-type {\n",
       "        vertical-align: middle;\n",
       "    }\n",
       "\n",
       "    .dataframe tbody tr th {\n",
       "        vertical-align: top;\n",
       "    }\n",
       "\n",
       "    .dataframe thead th {\n",
       "        text-align: right;\n",
       "    }\n",
       "</style>\n",
       "<table border=\"1\" class=\"dataframe\">\n",
       "  <thead>\n",
       "    <tr style=\"text-align: right;\">\n",
       "      <th></th>\n",
       "      <th>p_id</th>\n",
       "      <th>p_cat</th>\n",
       "      <th>p_price</th>\n",
       "    </tr>\n",
       "  </thead>\n",
       "  <tbody>\n",
       "    <tr>\n",
       "      <th>2678</th>\n",
       "      <td>0_2245</td>\n",
       "      <td>0.0</td>\n",
       "      <td>10.647072</td>\n",
       "    </tr>\n",
       "  </tbody>\n",
       "</table>\n",
       "</div>"
      ],
      "text/plain": [
       "        p_id  p_cat    p_price\n",
       "2678  0_2245    0.0  10.647072"
      ]
     },
     "execution_count": 19,
     "metadata": {},
     "output_type": "execute_result"
    }
   ],
   "source": [
    "df.loc[df.p_id=='0_2245', ['p_id', 'p_cat', 'p_price']].drop_duplicates()"
   ]
  },
  {
   "cell_type": "markdown",
   "metadata": {},
   "source": [
    "#### On transforme les date en objets *Date*"
   ]
  },
  {
   "cell_type": "code",
   "execution_count": 20,
   "metadata": {},
   "outputs": [],
   "source": [
    "def toDate(val):\n",
    "    if pd.isnull(val):\n",
    "        return val\n",
    "    else:\n",
    "        return datetime.strptime(val, '%Y-%m-%d %H:%M:%S.%f')"
   ]
  },
  {
   "cell_type": "code",
   "execution_count": 21,
   "metadata": {},
   "outputs": [],
   "source": [
    "df['t_date'] = df['t_date'].apply(toDate)"
   ]
  },
  {
   "cell_type": "markdown",
   "metadata": {},
   "source": [
    "#### On transforme en string les cat de produits"
   ]
  },
  {
   "cell_type": "code",
   "execution_count": 22,
   "metadata": {},
   "outputs": [],
   "source": [
    "df['p_cat'] = df['p_cat'].fillna(-1)\n",
    "df['p_cat'] = df['p_cat'].apply(lambda x: str(int(x)))\n",
    "df['p_cat'] = df['p_cat'].replace('-1', np.nan)"
   ]
  },
  {
   "cell_type": "markdown",
   "metadata": {},
   "source": [
    "#### On détermine l'age des acheteurs"
   ]
  },
  {
   "cell_type": "code",
   "execution_count": 23,
   "metadata": {},
   "outputs": [],
   "source": [
    "df['t_buyer_age'] = df['t_date'].dt.year - df['c_birth']"
   ]
  },
  {
   "cell_type": "markdown",
   "metadata": {},
   "source": [
    "#### on discrétise l'age des acheteurs"
   ]
  },
  {
   "cell_type": "code",
   "execution_count": 24,
   "metadata": {},
   "outputs": [],
   "source": [
    "def discretise_age(age):\n",
    "    tranches = [\n",
    "        {'bornes': (0,30), 'label': '30-'},\n",
    "        {'bornes': (31,50), 'label': '31-50'},\n",
    "        {'bornes': (51,70), 'label': '51-70'},\n",
    "        {'bornes': (71,120),'label': '71+'}\n",
    "    ]\n",
    "    for t in tranches:\n",
    "        if t['bornes'][0] <= age <= t['bornes'][1]:\n",
    "            return t['label']"
   ]
  },
  {
   "cell_type": "code",
   "execution_count": 25,
   "metadata": {},
   "outputs": [],
   "source": [
    "df['t_buyer_age_range'] = df['t_buyer_age'].apply(discretise_age)"
   ]
  },
  {
   "cell_type": "markdown",
   "metadata": {},
   "source": [
    "#### On calcule l'age des consomateurs"
   ]
  },
  {
   "cell_type": "code",
   "execution_count": 26,
   "metadata": {},
   "outputs": [],
   "source": [
    "annee = 2022\n",
    "df['c_age']  = annee - df['c_birth']"
   ]
  },
  {
   "cell_type": "markdown",
   "metadata": {},
   "source": [
    "#### on discrétise l'age des consommateurs"
   ]
  },
  {
   "cell_type": "code",
   "execution_count": 27,
   "metadata": {},
   "outputs": [],
   "source": [
    "df['c_age_range'] = df['c_age'].apply(discretise_age)"
   ]
  },
  {
   "cell_type": "markdown",
   "metadata": {},
   "source": [
    "#### L'âge de 18 an est surreprésenté"
   ]
  },
  {
   "cell_type": "code",
   "execution_count": 28,
   "metadata": {
    "scrolled": true
   },
   "outputs": [
    {
     "data": {
      "text/plain": [
       "[]"
      ]
     },
     "execution_count": 28,
     "metadata": {},
     "output_type": "execute_result"
    },
    {
     "data": {
      "image/png": "[encoded data removed]",
      "text/plain": [
       "<Figure size 432x288 with 1 Axes>"
      ]
     },
     "metadata": {},
     "output_type": "display_data"
    }
   ],
   "source": [
    "df[['c_id', 'c_age']].drop_duplicates().c_age.plot('hist', bins=100)\n",
    "plt.plot()"
   ]
  },
  {
   "cell_type": "markdown",
   "metadata": {},
   "source": [
    "on ajoute un flag 'age irrelevant'"
   ]
  },
  {
   "cell_type": "code",
   "execution_count": 29,
   "metadata": {},
   "outputs": [],
   "source": [
    "df.loc[df.c_age == 18, 'data_info'] = 'age_irrelevant'"
   ]
  },
  {
   "cell_type": "markdown",
   "metadata": {},
   "source": [
    "#### On exprime la date de différentes manières"
   ]
  },
  {
   "cell_type": "code",
   "execution_count": 30,
   "metadata": {},
   "outputs": [],
   "source": [
    "# mois d'achat\n",
    "df['t_month'] = df['t_date'].dt.month\n",
    "# début, fin du mois ? 0,1,2,3\n",
    "df['t_month_part'] = (df['t_date'].dt.day / (df['t_date'].dt.days_in_month/4+1)).apply(lambda x: str(x)[0])\n",
    "# jour de la semaine\n",
    "df['t_weekday'] = df['t_date'].dt.dayofweek\n",
    "# heure d'achat\n",
    "df['t_hour'] = df['t_date'].dt.hour"
   ]
  },
  {
   "cell_type": "markdown",
   "metadata": {},
   "source": [
    "#### On discrétise le prix"
   ]
  },
  {
   "cell_type": "code",
   "execution_count": 31,
   "metadata": {},
   "outputs": [],
   "source": [
    "def discretise_price(price):\n",
    "    tranches = [\n",
    "        {'bornes': (0,4),  'label': 'very_cheap 3-'},\n",
    "        {'bornes': (4,10), 'label': 'cheap 4-9'},\n",
    "        {'bornes': (10,20), 'label': 'medium 10-19'},\n",
    "        {'bornes': (20,80), 'label': 'expensive 20-79'},\n",
    "        {'bornes': (80,500), 'label': 'very_expansive 80+'}\n",
    "    ]\n",
    "    for t in tranches:\n",
    "        if t['bornes'][0] <= price < t['bornes'][1]:\n",
    "            return t['label']"
   ]
  },
  {
   "cell_type": "code",
   "execution_count": 32,
   "metadata": {},
   "outputs": [],
   "source": [
    "df['p_price_range'] = df['p_price'].apply(discretise_price)"
   ]
  },
  {
   "cell_type": "markdown",
   "metadata": {},
   "source": [
    "<hr>"
   ]
  },
  {
   "cell_type": "markdown",
   "metadata": {},
   "source": [
    "#### Enfin, renommage des colonnes"
   ]
  },
  {
   "cell_type": "code",
   "execution_count": 33,
   "metadata": {},
   "outputs": [],
   "source": [
    "df = df[[\n",
    "    'c_id',\n",
    "    'c_sex',\n",
    "    'c_birth',\n",
    "    'c_age',\n",
    "    'c_age_range',\n",
    "    \n",
    "    'p_id',\n",
    "    'p_cat',\n",
    "    'p_price',\n",
    "    'p_price_range',\n",
    "    \n",
    "    't_sess_id',\n",
    "    't_buyer_age',\n",
    "    't_buyer_age_range',\n",
    "    \n",
    "    't_date',\n",
    "    't_hour',\n",
    "    't_weekday',\n",
    "    't_month_part',\n",
    "    't_month',\n",
    "    \n",
    "    'data_info'\n",
    "]]"
   ]
  },
  {
   "cell_type": "markdown",
   "metadata": {},
   "source": [
    "# Projection et enregistrement"
   ]
  },
  {
   "cell_type": "markdown",
   "metadata": {},
   "source": [
    "on créé 3 dataframe : \n",
    "- les produits invendus\n",
    "- les cliens qui n'ont rien acheté\n",
    "- toutes les transactions avec information des clients, "
   ]
  },
  {
   "cell_type": "code",
   "execution_count": 34,
   "metadata": {
    "scrolled": true
   },
   "outputs": [],
   "source": [
    "produits_invendus = df.loc[df['p_id'].isin(p_invendus_id), ['p_id', 'p_cat', 'p_price', 'p_price_range']]"
   ]
  },
  {
   "cell_type": "code",
   "execution_count": 35,
   "metadata": {},
   "outputs": [],
   "source": [
    "clients_sans_achat = df.loc[df['c_id'].isin(c_ss_achat_id), ['c_id', 'c_sex', 'c_birth', 'c_age', 'c_age_range']]"
   ]
  },
  {
   "cell_type": "code",
   "execution_count": 36,
   "metadata": {},
   "outputs": [],
   "source": [
    "transactions = df.dropna(subset=['c_id', 'c_sex', 'c_birth', 'c_age', 'c_age_range', 'p_id', 'p_cat',\n",
    "       'p_price', 'p_price_range', 't_sess_id', 't_buyer_age',\n",
    "       't_buyer_age_range', 't_date', 't_hour', 't_weekday', 't_month_part',\n",
    "       't_month'])"
   ]
  },
  {
   "cell_type": "markdown",
   "metadata": {},
   "source": [
    "#### Enregistrement des données"
   ]
  },
  {
   "cell_type": "code",
   "execution_count": 37,
   "metadata": {},
   "outputs": [],
   "source": [
    "produits_invendus.to_csv('3_clean_dataset/produits_invendus.csv', index=False)\n",
    "clients_sans_achat.to_csv('3_clean_dataset/clients_sans_achat.csv', index=False)\n",
    "transactions.to_csv('3_clean_dataset/transactions.csv', index=False)"
   ]
  }
 ],
 "metadata": {
  "kernelspec": {
   "display_name": "Python 3",
   "language": "python",
   "name": "python3"
  },
  "language_info": {
   "codemirror_mode": {
    "name": "ipython",
    "version": 3
   },
   "file_extension": ".py",
   "mimetype": "text/x-python",
   "name": "python",
   "nbconvert_exporter": "python",
   "pygments_lexer": "ipython3",
   "version": "3.6.5"
  }
 },
 "nbformat": 4,
 "nbformat_minor": 2
}
